{
  "nbformat": 4,
  "nbformat_minor": 0,
  "metadata": {
    "colab": {
      "provenance": []
    },
    "kernelspec": {
      "name": "python3",
      "display_name": "Python 3"
    },
    "language_info": {
      "name": "python"
    }
  },
  "cells": [
    {
      "cell_type": "code",
      "execution_count": null,
      "metadata": {
        "id": "qNyxfAZeIdxH"
      },
      "outputs": [],
      "source": [
        "import xgboost as xgb\n",
        "from sklearn.model_selection import train_test_split\n",
        "from sklearn.metrics import accuracy_score, confusion_matrix\n",
        "import pandas as pd\n",
        "\n",
        "# 🧱 Agent: Train the model for multiple tokens, including sentiment-weighted total\n",
        "def train_multiple_tokens_models_with_sentiment(all_tokens_data):\n",
        "    # Dictionary to store the trained models for each token\n",
        "    all_models = {}\n",
        "\n",
        "    # Loop through each token's data\n",
        "    for token, combined_df in all_tokens_data.items():\n",
        "        print(f\"Training model for {token}...\")\n",
        "\n",
        "        # Feature selection (including sentiment-weighted total)\n",
        "        X = combined_df[['value_x', 'value_y', 'return', 'rolling_avg', 'value']]  # Features\n",
        "        y = combined_df['buy_signal'].astype(int)  # Target: buy_signal (binary classification)\n",
        "\n",
        "        # Split the data into training and testing sets (80% train, 20% test)\n",
        "        X_train, X_test, y_train, y_test = train_test_split(X, y, test_size=0.2, random_state=42)\n",
        "\n",
        "        # Create and train the XGBoost classifier\n",
        "        model = xgb.XGBClassifier(use_label_encoder=False, eval_metric='logloss')  # Avoid label encoder warning\n",
        "        model.fit(X_train, y_train)\n",
        "\n",
        "        # Evaluate the model\n",
        "        y_pred = model.predict(X_test)\n",
        "        accuracy = accuracy_score(y_test, y_pred)\n",
        "        conf_matrix = confusion_matrix(y_test, y_pred)\n",
        "\n",
        "        print(f\"Accuracy for {token}: {accuracy:.4f}\")\n",
        "        print(f\"Confusion Matrix for {token}:\")\n",
        "        print(conf_matrix)\n",
        "\n",
        "        # Feature importance (optional)\n",
        "        xgb.plot_importance(model)\n",
        "\n",
        "        # Store the trained model in the dictionary\n",
        "        all_models[token] = model\n",
        "\n",
        "    return all_models\n"
      ]
    }
  ]
}